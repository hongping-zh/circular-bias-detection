{
  "cells": [
    {
      "cell_type": "markdown",
      "metadata": {},
      "source": [
        "# 🔍 Detect Circular Bias in AI Evaluations with Sleuth\n",
        "\n",
        "**Author**: Hongping Zhang  \n",
        "**Tool**: [Sleuth](https://github.com/hongping-zh/circular-bias-detection)  \n",
        "**Goal**: In 5 minutes, check if your benchmark results suffer from circular reasoning bias (e.g., prompt/hyperparameter tuning until scores look good)."
      ]
    },
    {
      "cell_type": "markdown",
      "metadata": {},
      "source": [
        "## 📦 Install Sleuth"
      ]
    },
    {
      "cell_type": "code",
      "execution_count": null,
      "metadata": {},
      "outputs": [],
      "source": [
        "!pip install circular-bias-detector[cli]"
      ]
    },
    {
      "cell_type": "markdown",
      "metadata": {},
      "source": [
        "## 🧪 Load Sample Data (LLM Evaluation)"
      ]
    },
    {
      "cell_type": "code",
      "execution_count": null,
      "metadata": {},
      "outputs": [],
      "source": [
        "import pandas as pd\n",
        "df = pd.read_csv('https://raw.githubusercontent.com/hongping-zh/circular-bias-detection/main/data/llm_eval_sample.csv')\n",
        "df.head()"
      ]
    },
    {
      "cell_type": "markdown",
      "metadata": {},
      "source": [
        "## 🛠️ Prepare Matrices for Sleuth"
      ]
    },
    {
      "cell_type": "code",
      "execution_count": null,
      "metadata": {},
      "outputs": [],
      "source": [
        "from circular_bias_detector import BiasDetector\n",
        "\n",
        "# Pivot performance by time_period × algorithm\n",
        "perf_matrix = df.pivot(index='time_period', columns='algorithm', values='performance').values\n",
        "\n",
        "# Extract constraints (one row per time_period)\n",
        "constraint_cols = ['constraint_compute', 'constraint_memory', 'max_tokens', 'temperature']\n",
        "const_matrix = df.groupby('time_period')[constraint_cols].first().values\n",
        "\n",
        "print(\"Performance matrix shape:\", perf_matrix.shape)\n",
        "print(\"Constraint matrix shape:\", const_matrix.shape)"
      ]
    },
    {
      "cell_type": "markdown",
      "metadata": {},
      "source": [
        "## 🕵️ Run Bias Detection (with Bootstrap & Adaptive Thresholds)"
      ]
    },
    {
      "cell_type": "code",
      "execution_count": null,
      "metadata": {},
      "outputs": [],
      "source": [
        "detector = BiasDetector(\n",
        "    enable_bootstrap=True,\n",
        "    n_bootstrap=1000,\n",
        "    enable_adaptive_thresholds=True\n",
        ")\n",
        "\n",
        "results = detector.detect_bias(\n",
        "    performance_matrix=perf_matrix,\n",
        "    constraint_matrix=const_matrix,\n",
        "    algorithm_names=df['algorithm'].unique().tolist()\n",
        ")"
      ]
    },
    {
      "cell_type": "markdown",
      "metadata": {},
      "source": [
        "## 📊 View Results"
      ]
    },
    {
      "cell_type": "code",
      "execution_count": null,
      "metadata": {},
      "outputs": [],
      "source": [
        "print(detector.generate_report(results))"
      ]
    },
    {
      "cell_type": "code",
      "execution_count": null,
      "metadata": {},
      "outputs": [],
      "source": [
        "# Optional: visualize\n",
        "from circular_bias_detector.visualization import plot_interactive_dashboard\n",
        "plot_interactive_dashboard(perf_matrix, const_matrix, results, df['algorithm'].unique().tolist(), save_html='sleuth_dashboard.html')\n",
        "from IPython.display import IFrame\n",
        "IFrame(src=\"sleuth_dashboard.html\", width=900, height=600)"
      ]
    },
    {
      "cell_type": "markdown",
      "metadata": {},
      "source": [
        "## 📥 Try Your Own Data\n",
        "\n",
        "Upload a CSV with columns: `time_period`, `algorithm`, `performance`, and constraint fields (e.g., `temperature`, `max_tokens`).\n",
        "Then re-run the cells above!"
      ]
    }
  ],
  "metadata": {
    "kernelspec": {
      "display_name": "Python 3",
      "language": "python",
      "name": "python3"
    },
    "language_info": {
      "name": "python",
      "version": "3.10.0"
    }
  },
  "nbformat": 4,
  "nbformat_minor": 4
}
