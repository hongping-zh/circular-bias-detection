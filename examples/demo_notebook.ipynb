{
 "cells": [
  {
   "cell_type": "markdown",
   "metadata": {},
   "source": [
    "# Circular Bias Detection Framework - Interactive Demo\n",
    "\n",
    "This notebook demonstrates how to use the Circular Bias Detection Framework to analyze algorithm evaluation data.\n",
    "\n",
    "[![Open In Colab](https://colab.research.google.com/assets/colab-badge.svg)](https://colab.research.google.com/github/hongping-zh/circular-bias-detection/blob/main/examples/demo_notebook.ipynb)"
   ]
  },
  {
   "cell_type": "markdown",
   "metadata": {},
   "source": [
    "## Setup\n",
    "\n",
    "First, let's install the required dependencies and import the framework."
   ]
  },
  {
   "cell_type": "code",
   "execution_count": null,
   "metadata": {},
   "outputs": [],
   "source": [
    "# Install dependencies (uncomment if needed)\n",
    "# !pip install numpy pandas matplotlib seaborn\n",
    "\n",
    "import numpy as np\n",
    "import pandas as pd\n",
    "import matplotlib.pyplot as plt\n",
    "import seaborn as sns\n",
    "\n",
    "# Clone repository (if running in Colab)\n",
    "# !git clone https://github.com/hongping-zh/circular-bias-detection.git\n",
    "# import sys\n",
    "# sys.path.insert(0, '/content/circular-bias-detection')\n",
    "\n",
    "from circular_bias_detector import BiasDetector\n",
    "from circular_bias_detector.utils import create_synthetic_data\n",
    "\n",
    "sns.set_style('whitegrid')\n",
    "print(\"✓ Setup complete!\")"
   ]
  },
  {
   "cell_type": "markdown",
   "metadata": {},
   "source": [
    "## Part 1: Load and Visualize Sample Data\n",
    "\n",
    "Let's load the sample dataset and explore its structure."
   ]
  },
  {
   "cell_type": "code",
   "execution_count": null,
   "metadata": {},
   "outputs": [],
   "source": [
    "# Load sample data\n",
    "df = pd.read_csv('../data/sample_data.csv')\n",
    "\n",
    "print(f\"Dataset shape: {df.shape}\")\n",
    "print(f\"\\nColumns: {list(df.columns)}\")\n",
    "print(f\"\\nAlgorithms: {df['algorithm'].unique()}\")\n",
    "print(f\"Time periods: {df['time_period'].min()} to {df['time_period'].max()}\")\n",
    "\n",
    "df.head(10)"
   ]
  },
  {
   "cell_type": "code",
   "execution_count": null,
   "metadata": {},
   "outputs": [],
   "source": [
    "# Visualize performance trends over time\n",
    "plt.figure(figsize=(12, 6))\n",
    "\n",
    "for algorithm in df['algorithm'].unique():\n",
    "    data = df[df['algorithm'] == algorithm]\n",
    "    plt.plot(data['time_period'], data['performance'], marker='o', label=algorithm, linewidth=2)\n",
    "\n",
    "plt.xlabel('Time Period', fontsize=12)\n",
    "plt.ylabel('Performance', fontsize=12)\n",
    "plt.title('Algorithm Performance Over Time', fontsize=14, fontweight='bold')\n",
    "plt.legend()\n",
    "plt.grid(True, alpha=0.3)\n",
    "plt.tight_layout()\n",
    "plt.show()"
   ]
  },
  {
   "cell_type": "markdown",
   "metadata": {},
   "source": [
    "## Part 2: Prepare Data for Bias Detection\n",
    "\n",
    "Convert the dataframe into the required matrix format."
   ]
  },
  {
   "cell_type": "code",
   "execution_count": null,
   "metadata": {},
   "outputs": [],
   "source": [
    "# Create performance matrix (T x K)\n",
    "performance_matrix = df.pivot(\n",
    "    index='time_period',\n",
    "    columns='algorithm',\n",
    "    values='performance'\n",
    ").values\n",
    "\n",
    "# Create constraint matrix (T x p)\n",
    "constraint_matrix = df.groupby('time_period')[[\n",
    "    'constraint_compute',\n",
    "    'constraint_memory',\n",
    "    'constraint_dataset_size'\n",
    "]].first().values\n",
    "\n",
    "algorithms = df['algorithm'].unique().tolist()\n",
    "\n",
    "print(f\"Performance matrix shape: {performance_matrix.shape}\")\n",
    "print(f\"Constraint matrix shape: {constraint_matrix.shape}\")\n",
    "print(f\"\\nPerformance matrix:\\n{performance_matrix}\")"
   ]
  },
  {
   "cell_type": "markdown",
   "metadata": {},
   "source": [
    "## Part 3: Run Bias Detection\n",
    "\n",
    "Apply the three detection indicators: PSI, CCS, and ρ_PC."
   ]
  },
  {
   "cell_type": "code",
   "execution_count": null,
   "metadata": {},
   "outputs": [],
   "source": [
    "# Initialize detector\n",
    "detector = BiasDetector(\n",
    "    psi_threshold=0.15,\n",
    "    ccs_threshold=0.85,\n",
    "    rho_pc_threshold=0.5\n",
    ")\n",
    "\n",
    "# Run detection\n",
    "results = detector.detect_bias(\n",
    "    performance_matrix=performance_matrix,\n",
    "    constraint_matrix=constraint_matrix,\n",
    "    algorithm_names=algorithms\n",
    ")\n",
    "\n",
    "# Display results\n",
    "print(\"=\" * 60)\n",
    "print(\"BIAS DETECTION RESULTS\")\n",
    "print(\"=\" * 60)\n",
    "print(f\"\\nPSI Score:  {results['psi_score']:.4f} {'⚠️ UNSTABLE' if results['psi_score'] > 0.15 else '✓ Stable'}\")\n",
    "print(f\"CCS Score:  {results['ccs_score']:.4f} {'⚠️ INCONSISTENT' if results['ccs_score'] < 0.85 else '✓ Consistent'}\")\n",
    "print(f\"ρ_PC Score: {results['rho_pc_score']:+.4f} {'⚠️ DEPENDENT' if abs(results['rho_pc_score']) > 0.5 else '✓ Independent'}\")\n",
    "print(f\"\\nOverall Bias Detected: {'❌ YES' if results['overall_bias'] else '✅ NO'}\")\n",
    "print(f\"Confidence: {results['confidence']:.1%}\")\n",
    "print(\"=\" * 60)"
   ]
  },
  {
   "cell_type": "markdown",
   "metadata": {},
   "source": [
    "## Part 4: Visualize Results\n",
    "\n",
    "Create visualizations to understand the detection results."
   ]
  },
  {
   "cell_type": "code",
   "execution_count": null,
   "metadata": {},
   "outputs": [],
   "source": [
    "# Create indicator comparison chart\n",
    "fig, axes = plt.subplots(1, 3, figsize=(15, 4))\n",
    "\n",
    "# PSI\n",
    "axes[0].bar(['PSI'], [results['psi_score']], color='steelblue')\n",
    "axes[0].axhline(0.15, color='red', linestyle='--', label='Threshold')\n",
    "axes[0].set_ylabel('Score')\n",
    "axes[0].set_title('PSI (Parameter Stability)', fontweight='bold')\n",
    "axes[0].set_ylim(0, max(0.3, results['psi_score'] * 1.2))\n",
    "axes[0].legend()\n",
    "\n",
    "# CCS\n",
    "axes[1].bar(['CCS'], [results['ccs_score']], color='forestgreen')\n",
    "axes[1].axhline(0.85, color='red', linestyle='--', label='Threshold')\n",
    "axes[1].set_ylabel('Score')\n",
    "axes[1].set_title('CCS (Constraint Consistency)', fontweight='bold')\n",
    "axes[1].set_ylim(0, 1)\n",
    "axes[1].legend()\n",
    "\n",
    "# ρ_PC\n",
    "color = 'coral' if abs(results['rho_pc_score']) > 0.5 else 'steelblue'\n",
    "axes[2].bar(['ρ_PC'], [results['rho_pc_score']], color=color)\n",
    "axes[2].axhline(0.5, color='red', linestyle='--', alpha=0.5)\n",
    "axes[2].axhline(-0.5, color='red', linestyle='--', alpha=0.5, label='Threshold')\n",
    "axes[2].axhline(0, color='black', linestyle='-', alpha=0.3, linewidth=0.8)\n",
    "axes[2].set_ylabel('Correlation')\n",
    "axes[2].set_title('ρ_PC (Performance-Constraint)', fontweight='bold')\n",
    "axes[2].set_ylim(-1, 1)\n",
    "axes[2].legend()\n",
    "\n",
    "plt.tight_layout()\n",
    "plt.show()"
   ]
  },
  {
   "cell_type": "markdown",
   "metadata": {},
   "source": [
    "## Part 5: Test with Synthetic Biased Data\n",
    "\n",
    "Generate synthetic data with known bias to test detection accuracy."
   ]
  },
  {
   "cell_type": "code",
   "execution_count": null,
   "metadata": {},
   "outputs": [],
   "source": [
    "# Generate biased scenario\n",
    "print(\"Generating synthetic biased data...\\n\")\n",
    "\n",
    "perf_biased, const_biased = create_synthetic_data(\n",
    "    n_time_periods=15,\n",
    "    n_algorithms=4,\n",
    "    n_constraints=3,\n",
    "    bias_intensity=0.7,  # High bias\n",
    "    random_seed=123\n",
    ")\n",
    "\n",
    "# Detect bias\n",
    "results_biased = detector.detect_bias(\n",
    "    performance_matrix=perf_biased,\n",
    "    constraint_matrix=const_biased,\n",
    "    algorithm_names=[f'Algo_{i+1}' for i in range(4)]\n",
    ")\n",
    "\n",
    "print(\"BIASED SCENARIO RESULTS:\")\n",
    "print(f\"PSI: {results_biased['psi_score']:.4f}\")\n",
    "print(f\"CCS: {results_biased['ccs_score']:.4f}\")\n",
    "print(f\"ρ_PC: {results_biased['rho_pc_score']:+.4f}\")\n",
    "print(f\"\\nBias Detected: {'✓ YES (Correct!)' if results_biased['overall_bias'] else '✗ NO (Missed!)'}\")\n",
    "print(f\"Confidence: {results_biased['confidence']:.1%}\")"
   ]
  },
  {
   "cell_type": "markdown",
   "metadata": {},
   "source": [
    "## Part 6: Batch Analysis\n",
    "\n",
    "Analyze multiple scenarios with varying bias intensities."
   ]
  },
  {
   "cell_type": "code",
   "execution_count": null,
   "metadata": {},
   "outputs": [],
   "source": [
    "# Test multiple bias levels\n",
    "bias_levels = [0.0, 0.2, 0.4, 0.6, 0.8, 1.0]\n",
    "detection_results = []\n",
    "\n",
    "for bias in bias_levels:\n",
    "    perf, const = create_synthetic_data(\n",
    "        n_time_periods=20,\n",
    "        n_algorithms=4,\n",
    "        n_constraints=3,\n",
    "        bias_intensity=bias,\n",
    "        random_seed=42\n",
    "    )\n",
    "    \n",
    "    result = detector.detect_bias(perf, const)\n",
    "    detection_results.append({\n",
    "        'bias_intensity': bias,\n",
    "        'psi': result['psi_score'],\n",
    "        'ccs': result['ccs_score'],\n",
    "        'rho_pc': result['rho_pc_score'],\n",
    "        'detected': result['overall_bias']\n",
    "    })\n",
    "\n",
    "results_df = pd.DataFrame(detection_results)\n",
    "results_df"
   ]
  },
  {
   "cell_type": "code",
   "execution_count": null,
   "metadata": {},
   "outputs": [],
   "source": [
    "# Plot detection curves\n",
    "fig, ax = plt.subplots(figsize=(10, 6))\n",
    "\n",
    "ax.plot(results_df['bias_intensity'], results_df['psi'], marker='o', label='PSI', linewidth=2)\n",
    "ax.plot(results_df['bias_intensity'], results_df['ccs'], marker='s', label='CCS', linewidth=2)\n",
    "ax.plot(results_df['bias_intensity'], results_df['rho_pc'].abs(), marker='^', label='|ρ_PC|', linewidth=2)\n",
    "\n",
    "ax.axhline(0.15, color='red', linestyle='--', alpha=0.5, label='PSI Threshold')\n",
    "ax.axhline(0.85, color='green', linestyle='--', alpha=0.5, label='CCS Threshold')\n",
    "ax.axhline(0.5, color='orange', linestyle='--', alpha=0.5, label='ρ_PC Threshold')\n",
    "\n",
    "ax.set_xlabel('True Bias Intensity', fontsize=12)\n",
    "ax.set_ylabel('Indicator Value', fontsize=12)\n",
    "ax.set_title('Detection Performance Across Bias Intensities', fontsize=14, fontweight='bold')\n",
    "ax.legend(loc='best')\n",
    "ax.grid(True, alpha=0.3)\n",
    "plt.tight_layout()\n",
    "plt.show()\n",
    "\n",
    "# Calculate detection accuracy\n",
    "accuracy = (results_df['detected'] == (results_df['bias_intensity'] > 0.3)).mean()\n",
    "print(f\"\\n✓ Detection Accuracy: {accuracy:.1%}\")"
   ]
  },
  {
   "cell_type": "markdown",
   "metadata": {},
   "source": [
    "## Summary\n",
    "\n",
    "This notebook demonstrated:\n",
    "1. Loading and visualizing evaluation data\n",
    "2. Running the bias detection framework\n",
    "3. Interpreting the three indicators (PSI, CCS, ρ_PC)\n",
    "4. Testing with synthetic biased data\n",
    "5. Batch analysis across bias intensities\n",
    "\n",
    "For more information:\n",
    "- **Repository**: https://github.com/hongping-zh/circular-bias-detection\n",
    "- **Dataset**: https://doi.org/10.5281/zenodo.17201032\n",
    "- **Documentation**: See README.md"
   ]
  }
 ],
 "metadata": {
  "kernelspec": {
   "display_name": "Python 3",
   "language": "python",
   "name": "python3"
  },
  "language_info": {
   "codemirror_mode": {
    "name": "ipython",
    "version": 3
   },
   "file_extension": ".py",
   "mimetype": "text/x-python",
   "name": "python",
   "nbconvert_exporter": "python",
   "pygments_lexer": "ipython3",
   "version": "3.8.0"
  }
 },
 "nbformat": 4,
 "nbformat_minor": 4
}
