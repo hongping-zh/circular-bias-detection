{
 "cells": [
  {
   "cell_type": "markdown",
   "metadata": {
    "id": "header"
   },
   "source": [
    "# 🔍 Sleuth - Quick Start Guide\n",
    "\n",
    "**Detect circular bias in AI evaluations in 5 minutes!**\n",
    "\n",
    "[![Open In Colab](https://colab.research.google.com/assets/colab-badge.svg)](https://colab.research.google.com/github/hongping-zh/circular-bias-detection/blob/main/examples/quickstart_colab.ipynb)\n",
    "[![GitHub](https://img.shields.io/badge/GitHub-Repository-blue)](https://github.com/hongping-zh/circular-bias-detection)\n",
    "[![Demo](https://img.shields.io/badge/Web%20App-Try%20Now-brightgreen)](https://hongping-zh.github.io/circular-bias-detection/)\n",
    "\n",
    "---\n",
    "\n",
    "## What You'll Learn\n",
    "\n",
    "- ✅ Install and set up Sleuth in Google Colab\n",
    "- ✅ Detect circular bias in your evaluation data\n",
    "- ✅ Interpret the 3 key indicators (PSI, CCS, ρ_PC)\n",
    "- ✅ Generate publication-ready reports\n",
    "\n",
    "**No prior knowledge required!**"
   ]
  },
  {
   "cell_type": "markdown",
   "metadata": {
    "id": "setup"
   },
   "source": [
    "## Step 1: Installation (30 seconds)\n",
    "\n",
    "Run this cell to install Sleuth and its dependencies:"
   ]
  },
  {
   "cell_type": "code",
   "execution_count": null,
   "metadata": {
    "id": "install"
   },
   "outputs": [],
   "source": [
    "%%capture\n",
    "# Install framework\n",
    "!pip install numpy pandas scipy matplotlib seaborn scikit-learn\n",
    "\n",
    "# Clone repository\n",
    "!git clone https://github.com/hongping-zh/circular-bias-detection.git\n",
    "\n",
    "# Add to Python path\n",
    "import sys\n",
    "sys.path.insert(0, '/content/circular-bias-detection')\n",
    "\n",
    "print(\"✅ Installation complete!\")"
   ]
  },
  {
   "cell_type": "markdown",
   "metadata": {
    "id": "import"
   },
   "source": [
    "## Step 2: Import Libraries"
   ]
  },
  {
   "cell_type": "code",
   "execution_count": null,
   "metadata": {
    "id": "imports"
   },
   "outputs": [],
   "source": [
    "import numpy as np\n",
    "import pandas as pd\n",
    "import matplotlib.pyplot as plt\n",
    "import seaborn as sns\n",
    "from circular_bias_detector import BiasDetector\n",
    "\n",
    "# Configure plotting\n",
    "sns.set_style('whitegrid')\n",
    "plt.rcParams['figure.figsize'] = (10, 6)\n",
    "\n",
    "print(\"✅ Libraries imported successfully!\")"
   ]
  },
  {
   "cell_type": "markdown",
   "metadata": {
    "id": "example1"
   },
   "source": [
    "## Step 3: Quick Example - LLM Evaluation\n",
    "\n",
    "Let's analyze a typical scenario: You evaluated 4 LLMs across 5 iterations, tweaking temperature each time.\n",
    "\n",
    "**Question:** Did the parameter changes bias your results?"
   ]
  },
  {
   "cell_type": "code",
   "execution_count": null,
   "metadata": {
    "id": "example1_data"
   },
   "outputs": [],
   "source": [
    "# Load sample LLM evaluation data\n",
    "df = pd.read_csv('/content/circular-bias-detection/data/sample_data.csv')\n",
    "\n",
    "print(\"📊 Sample Data (first 10 rows):\")\n",
    "print(df.head(10))\n",
    "print(f\"\\n📈 Shape: {df.shape[0]} evaluations\")"
   ]
  },
  {
   "cell_type": "markdown",
   "metadata": {
    "id": "detection"
   },
   "source": [
    "## Step 4: Run Bias Detection"
   ]
  },
  {
   "cell_type": "code",
   "execution_count": null,
   "metadata": {
    "id": "run_detection"
   },
   "outputs": [],
   "source": [
    "# Prepare data matrices\n",
    "algorithms = df['algorithm'].unique()\n",
    "time_periods = sorted(df['time_period'].unique())\n",
    "\n",
    "# Performance matrix (T x K)\n",
    "performance_matrix = df.pivot(\n",
    "    index='time_period', \n",
    "    columns='algorithm', \n",
    "    values='performance'\n",
    ").values\n",
    "\n",
    "# Constraint matrix (T x p)\n",
    "constraint_matrix = df.groupby('time_period')[[\n",
    "    'constraint_compute', \n",
    "    'constraint_memory', \n",
    "    'constraint_dataset_size'\n",
    "]].first().values\n",
    "\n",
    "# Run detection\n",
    "detector = BiasDetector(\n",
    "    psi_threshold=0.15,\n",
    "    ccs_threshold=0.85,\n",
    "    rho_pc_threshold=0.50\n",
    ")\n",
    "\n",
    "results = detector.detect_bias(\n",
    "    performance_matrix=performance_matrix,\n",
    "    constraint_matrix=constraint_matrix,\n",
    "    algorithm_names=list(algorithms),\n",
    "    enable_bootstrap=True,\n",
    "    n_bootstrap=1000\n",
    ")\n",
    "\n",
    "print(\"✅ Detection complete!\")"
   ]
  },
  {
   "cell_type": "markdown",
   "metadata": {
    "id": "results"
   },
   "source": [
    "## Step 5: View Results"
   ]
  },
  {
   "cell_type": "code",
   "execution_count": null,
   "metadata": {
    "id": "display_results"
   },
   "outputs": [],
   "source": [
    "# Display results with color coding\n",
    "from IPython.display import display, Markdown\n",
    "\n",
    "def format_result(name, value, threshold, lower_is_better=True, ci_lower=None, ci_upper=None, p_value=None):\n",
    "    if lower_is_better:\n",
    "        status = \"✅ PASS\" if value < threshold else \"❌ FAIL\"\n",
    "        color = \"green\" if value < threshold else \"red\"\n",
    "    else:\n",
    "        status = \"✅ PASS\" if value > threshold else \"❌ FAIL\"\n",
    "        color = \"green\" if value > threshold else \"red\"\n",
    "    \n",
    "    result = f\"**{name}**: <span style='color:{color}; font-size:1.2em'>{value:.4f}</span> {status}\\n\"\n",
    "    \n",
    "    if ci_lower is not None and ci_upper is not None:\n",
    "        result += f\"  - 95% CI: [{ci_lower:.4f}, {ci_upper:.4f}]\\n\"\n",
    "    \n",
    "    if p_value is not None:\n",
    "        result += f\"  - p-value: {p_value:.3f}\\n\"\n",
    "    \n",
    "    result += f\"  - Threshold: {threshold}\\n\"\n",
    "    \n",
    "    return result\n",
    "\n",
    "# Format output\n",
    "output = \"# 🔍 Bias Detection Results\\n\\n\"\n",
    "\n",
    "if results.get('overall_bias'):\n",
    "    output += \"## 🔴 BIAS DETECTED\\n\\n\"\n",
    "else:\n",
    "    output += \"## ✅ NO BIAS DETECTED\\n\\n\"\n",
    "\n",
    "output += \"### Indicators:\\n\\n\"\n",
    "\n",
    "output += format_result(\n",
    "    \"PSI (Parameter Stability Index)\",\n",
    "    results['psi'],\n",
    "    0.15,\n",
    "    lower_is_better=True,\n",
    "    ci_lower=results.get('psi_ci_lower'),\n",
    "    ci_upper=results.get('psi_ci_upper'),\n",
    "    p_value=results.get('psi_p_value')\n",
    ") + \"\\n\"\n",
    "\n",
    "output += format_result(\n",
    "    \"CCS (Constraint Consistency Score)\",\n",
    "    results['ccs'],\n",
    "    0.85,\n",
    "    lower_is_better=False,\n",
    "    ci_lower=results.get('ccs_ci_lower'),\n",
    "    ci_upper=results.get('ccs_ci_upper'),\n",
    "    p_value=results.get('ccs_p_value')\n",
    ") + \"\\n\"\n",
    "\n",
    "output += format_result(\n",
    "    \"ρ_PC (Performance-Constraint Correlation)\",\n",
    "    results['rho_pc'],\n",
    "    0.50,\n",
    "    lower_is_better=True,\n",
    "    ci_lower=results.get('rho_pc_ci_lower'),\n",
    "    ci_upper=results.get('rho_pc_ci_upper'),\n",
    "    p_value=results.get('rho_pc_p_value')\n",
    ") + \"\\n\"\n",
    "\n",
    "output += f\"### Interpretation:\\n\\n{results.get('interpretation', 'N/A')}\\n\"\n",
    "\n",
    "display(Markdown(output))"
   ]
  },
  {
   "cell_type": "markdown",
   "metadata": {
    "id": "understand"
   },
   "source": [
    "## Step 6: Understanding the Indicators\n",
    "\n",
    "### 📊 PSI (Parameter Stability Index)\n",
    "**What it measures:** How much your hyperparameters changed during evaluation\n",
    "- ✅ **Low PSI (<0.15)**: Parameters stayed consistent → Good!\n",
    "- ❌ **High PSI (>0.15)**: Parameters changed too much → Risk of bias\n",
    "\n",
    "### 🎯 CCS (Constraint Consistency Score)\n",
    "**What it measures:** How consistent your evaluation environment was\n",
    "- ✅ **High CCS (>0.85)**: Conditions stayed the same → Good!\n",
    "- ❌ **Low CCS (<0.85)**: Conditions varied → Unfair comparison\n",
    "\n",
    "### 🔗 ρ_PC (Performance-Constraint Correlation)\n",
    "**What it measures:** Whether performance improvements came from resource changes\n",
    "- ✅ **Low ρ_PC (<0.50)**: Performance independent of resources → Good!\n",
    "- ❌ **High ρ_PC (>0.50)**: Performance linked to resource changes → Suspicious"
   ]
  },
  {
   "cell_type": "markdown",
   "metadata": {
    "id": "visualize"
   },
   "source": [
    "## Step 7: Visualize Results"
   ]
  },
  {
   "cell_type": "code",
   "execution_count": null,
   "metadata": {
    "id": "viz"
   },
   "outputs": [],
   "source": [
    "# Plot performance over time\n",
    "fig, axes = plt.subplots(1, 2, figsize=(14, 5))\n",
    "\n",
    "# Performance trends\n",
    "for i, algo in enumerate(algorithms):\n",
    "    axes[0].plot(time_periods, performance_matrix[:, i], marker='o', label=algo, linewidth=2)\n",
    "\n",
    "axes[0].set_xlabel('Time Period', fontsize=12)\n",
    "axes[0].set_ylabel('Performance', fontsize=12)\n",
    "axes[0].set_title('Performance Over Time', fontsize=14, fontweight='bold')\n",
    "axes[0].legend()\n",
    "axes[0].grid(True, alpha=0.3)\n",
    "\n",
    "# Constraint changes\n",
    "axes[1].plot(time_periods, constraint_matrix[:, 0], marker='s', label='Compute', linewidth=2)\n",
    "axes[1].plot(time_periods, constraint_matrix[:, 1]*100, marker='^', label='Memory x100', linewidth=2)\n",
    "axes[1].set_xlabel('Time Period', fontsize=12)\n",
    "axes[1].set_ylabel('Constraint Value', fontsize=12)\n",
    "axes[1].set_title('Constraint Changes Over Time', fontsize=14, fontweight='bold')\n",
    "axes[1].legend()\n",
    "axes[1].grid(True, alpha=0.3)\n",
    "\n",
    "plt.tight_layout()\n",
    "plt.show()"
   ]
  },
  {
   "cell_type": "markdown",
   "metadata": {
    "id": "custom"
   },
   "source": [
    "## Step 8: Try Your Own Data\n",
    "\n",
    "Upload your CSV file with these columns:\n",
    "- `time_period`: Evaluation iteration (1, 2, 3, ...)\n",
    "- `algorithm`: Model name\n",
    "- `performance`: Performance metric (0-1)\n",
    "- `constraint_compute`, `constraint_memory`, `constraint_dataset_size`: Resource limits"
   ]
  },
  {
   "cell_type": "code",
   "execution_count": null,
   "metadata": {
    "id": "upload"
   },
   "outputs": [],
   "source": [
    "from google.colab import files\n",
    "\n",
    "# Upload your CSV\n",
    "uploaded = files.upload()\n",
    "\n",
    "# Get filename\n",
    "filename = list(uploaded.keys())[0]\n",
    "\n",
    "# Load your data\n",
    "your_data = pd.read_csv(filename)\n",
    "\n",
    "print(\"✅ Your data loaded successfully!\")\n",
    "print(your_data.head())\n",
    "\n",
    "# Now run the detection on your data\n",
    "# (Copy code from Step 4 and modify variable names)"
   ]
  },
  {
   "cell_type": "markdown",
   "metadata": {
    "id": "next"
   },
   "source": [
    "## Next Steps\n",
    "\n",
    "### 🚀 Try More Features\n",
    "- [Advanced Tutorial](https://github.com/hongping-zh/circular-bias-detection/blob/main/examples/demo_notebook.ipynb)\n",
    "- [Python SDK Documentation](https://github.com/hongping-zh/circular-bias-detection#readme)\n",
    "- [Web App](https://hongping-zh.github.io/circular-bias-detection/)\n",
    "\n",
    "### 📚 Learn More\n",
    "- [Full Dataset on Zenodo](https://doi.org/10.5281/zenodo.17201032)\n",
    "- [Research Paper](https://github.com/hongping-zh/circular-bias-detection/blob/main/paper.md)\n",
    "- [Report an Issue](https://github.com/hongping-zh/circular-bias-detection/issues)\n",
    "\n",
    "### ⭐ Support the Project\n",
    "If this tool helped you, please:\n",
    "- Star the [GitHub repository](https://github.com/hongping-zh/circular-bias-detection)\n",
    "- Share with colleagues\n",
    "- Cite in your papers\n",
    "\n",
    "---\n",
    "\n",
    "**Questions?** Open an issue on GitHub or contact: yujjam@uest.edu.gr"
   ]
  }
 ],
 "metadata": {
  "colab": {
   "provenance": [],
   "toc_visible": true
  },
  "kernelspec": {
   "display_name": "Python 3",
   "language": "python",
   "name": "python3"
  },
  "language_info": {
   "name": "python",
   "version": "3.8.0"
  }
 },
 "nbformat": 4,
 "nbformat_minor": 0
}
