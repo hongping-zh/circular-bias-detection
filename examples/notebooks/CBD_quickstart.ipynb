{
 "cells": [
  {
   "cell_type": "markdown",
   "metadata": {},
   "source": [
    "# CBD Quickstart (Minimal Runnable)\n",
    "\n",
    "This notebook demonstrates a minimal end-to-end use of the Python API to detect circular bias on a tiny toy matrix.\n",
    "\n",
    "- Install (if needed): `pip install circular-bias-detector`\n",
    "- API used: `SimpleBiasDetector.quick_check(performance, constraints)`\n"
   ]
  },
  {
   "cell_type": "code",
   "execution_count": null,
   "metadata": {},
   "outputs": [],
   "source": [
    "# Minimal runnable example\n",
    "import numpy as np\n",
    "from circular_bias_detector import SimpleBiasDetector\n",
    "\n",
    "# Rows = time periods, Cols = algorithms\n",
    "performance = np.array([[0.85, 0.78],\n",
    "                         [0.87, 0.80],\n",
    "                         [0.91, 0.84]])\n",
    "\n",
    "# Example constraints matrix (e.g., compute, a sampling param)\n",
    "constraints = np.array([[512, 0.7],\n",
    "                         [550, 0.75],\n",
    "                         [600, 0.8]])\n",
    "\n",
    "detector = SimpleBiasDetector()\n",
    "result = detector.quick_check(performance, constraints)\n",
    "\n",
    "print('Detection result:')\n",
    "for k, v in result.items():\n",
    "    print(f'  {k}: {v}')\n"
   ]
  },
  {
   "cell_type": "code",
   "execution_count": null,
   "id": "9a9efb53",
   "metadata": {},
   "outputs": [],
   "source": [
    "# Load tiny sample CSV and run detection\n",
    "import pandas as pd\n",
    "from circular_bias_detector import SimpleBiasDetector\n",
    "\n",
    "# Read small example dataset (relative path)\n",
    "df = pd.read_csv('../../data/tiny_sample.csv')\n",
    "\n",
    "# Prepare matrices: rows=time_periods, cols=algorithms\n",
    "performance = df.pivot(index='time_period', columns='algorithm', values='performance').values\n",
    "constraints = df.groupby('time_period')[['constraint_compute', 'constraint_memory']].first().values\n",
    "\n",
    "# Detect bias\n",
    "simple = SimpleBiasDetector()\n",
    "res = simple.quick_check(performance, constraints)\n",
    "print('Detection result from tiny_sample.csv:')\n",
    "for k, v in res.items():\n",
    "    print(f'  {k}: {v}')\n"
   ]
  }
 ],
 "metadata": {
  "kernelspec": {
   "display_name": "Python 3",
   "language": "python",
   "name": "python3"
  },
  "language_info": {
   "name": "python",
   "pygments_lexer": "ipython3"
  }
 },
 "nbformat": 4,
 "nbformat_minor": 5
}
